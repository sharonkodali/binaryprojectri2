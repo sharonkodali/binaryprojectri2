{
 "cells": [
  {
   "cell_type": "markdown",
   "metadata": {},
   "source": [
    "---\n",
    "comments: true\n",
    "layout: notebook\n",
    "title: Color game ideation\n",
    "description: A key to development in this class is the association VSCode to a GitHub pages project.  This is where students update assignments and present work.\n",
    "type: hacks\n",
    "courses: { compsci: {week: 5} }\n",
    "categories: [C4.1]\n",
    "---"
   ]
  }
 ],
 "metadata": {
  "language_info": {
   "name": "python"
  },
  "orig_nbformat": 4
 },
 "nbformat": 4,
 "nbformat_minor": 2
}
